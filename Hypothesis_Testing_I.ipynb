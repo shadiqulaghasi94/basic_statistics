{
 "cells": [
  {
   "cell_type": "markdown",
   "metadata": {},
   "source": [
    "### Confidence intervals (CIs)\n",
    "\n",
    "A [confidence interval](https://en.wikipedia.org/wiki/Confidence_interval) is an estimate computed from observed data's statistics. It's a range of values we are fairly sure our true value lies within. For example, we can say: we are 99% certain (confidence *level*) that most of these datasets (confidence *intervals*) contain the true population parameter. According to the information available about the population, two tests can be performed to determine the CIs: the **z-test** or the **t-test**.\n",
    "\n",
    "\n",
    "#### When to use the z-test and when to use the t-test?\n",
    "Suppose that we consider a population of given mean and standard deviation (st.dev.), $\\mu$ and $\\sigma$, respectively, and we want to verify whether a sample of size $N$, mean $\\hat{x}$ and st.dev. $s$ belong to/represent that population. Then:\n",
    "- if both the  *population* mean and st.dev. are known, then one should perform a *z*-test\n",
    "- if, instead, *only* the population mean is known, then one should use the *t*-test. \n",
    "\n",
    "This is because the *t*-distribution has heavier tails than the normal distribution (*z*-distribution) to compensate for the higher uncertainty caused by the lack of information about the (population) standard deviation. Unfortunately, it's very rare to know the population standard deviation, so the *t*-test is more commonly used.\n",
    "\n",
    "It's possible to read that one test should be chosen over the other according to the sample size. Sometimes, it's said that when the sample size is $N\\geq30$, only the *z*-test should be used. However, this is incorrect and the *t*-test can always be performed. Indeed, for large $N$ the two distributions become more and more similar and for $N\\rightarrow\\infty$ the *t*-distribution converges to the normal one (central limit theorem). "
   ]
  },
  {
   "cell_type": "markdown",
   "metadata": {},
   "source": [
    "#### The *z*-distribution and *t*-distribution\n",
    "The expression of the normal or Gaussian distribution (PDF) of mean $\\mu$ and st.dev. $\\sigma$ is familiar. We report it here:\\\n",
    "$$\n",
    "f(t) = \\frac{1}{\\sigma\\sqrt{2\\pi}}e^{-\\frac{1}{2}\\frac{(t-\\mu)^2}{\\sigma^2}}\n",
    "$$\n",
    "\n",
    "The *t*-Student one (PDF) is less common and depends on a parameter, called the number of degrees of freedom (dof), with symbol $\\nu$: \n",
    "$$\n",
    "f(t) = \\frac{\\ \\Gamma\\left(\\frac{\\ \\nu+1\\ }{ 2 }\\right)\\ }{\\ \\sqrt{\\pi\\ \\nu\\ }\\ \\Gamma\\left(\\frac{\\nu}{2}\\right)} \\left(\\ 1 + \\frac{~ t^2\\ }{ \\nu }\\ \\right)^{-(\\nu+1)/2}\n",
    "$$\n",
    "\n",
    "\n",
    "When performing statistical testing and determining the CI, it's important to know the cumulative distribution functions (CDFs) of the above PDFs since, as any CDF, they tell us information about the probability of a certain value $t$. Even give the probability associated to the value $t$. Even if the CDFs of the normal and *t*-distributions have analytical but complex expressions, the second also changing according to the different values of $\\nu$, it's useless to report them here.\n",
    "\n",
    "It's useful, instead, to remember the general properties of the CDFs. Given a real-valued random variable $X$, a CDF is a function $F$, such that $F \\colon \\mathbb R \\rightarrow [0,1]$, satisfying $\\lim_{x\\rightarrow-\\infty}F(x)=0$ and $\\lim_{x\\rightarrow\\infty}F(x)=1$. Given a PDF, $f(t)$, its CDF is  \n",
    "$$\n",
    "F(t)\\,=\\,\\int_{-\\infty}^t f(u) \\, du\n",
    "$$\n",
    "such that\n",
    "$$\n",
    "F_X(t)\\,=\\,P(X \\leq t)\n",
    "$$\n",
    "for any random variable $X$."
   ]
  },
  {
   "cell_type": "markdown",
   "metadata": {},
   "source": [
    "#### Example 1: the population st.dev. is known\n",
    "Suppose that we know the population distribution and that this distribution is $N(\\mu=0, \\sigma^2=1)$, i.e., the *standard* normal distribution. Suppose now that we measure a sample and this sample has mean $\\hat x$. We want to know if this sample belongs to or population $N(0,1)$. The *z*-score is, then, defined as\n",
    "$$\n",
    "z_r = \\frac{\\hat x-\\mu}{\\sigma}\n",
    "$$\n",
    "and we want to see which is the probability associated to this value. We can look at the CDF of this distribution and (analytically or, more likely, numerically) solve the following integral to get the corresponding probability $r$:\n",
    "$$\n",
    "\\text{CDF}(– z_r \\leq Z \\leq z_r ) = P(– z_r \\leq Z \\leq z_r) = \\frac{1}{2\\pi}\\int_{-z_r}^{z_r}e^{-\\frac{z^2}{2}} dz = r\n",
    "$$\n",
    "\n",
    "What is more common to do is the way round: (i) you measure $z_r$, (ii) you fix a target probability $r$ you want to achieve and (iii) you solve the integral to find the corresponding *z*-values. If $z_r\\in [-z, z]$, then you can be $r$ confident about your estimate.\n",
    "\n",
    "For example, under the normality assumption (i.e., the population distribution is $N(\\mu, \\sigma^2)$), it can be shown that\n",
    "\n",
    "$$\n",
    "0.95 = P\\Big(- 1.96 \\le \\frac{\\hat x - \\mu}{\\frac{\\sigma}{\\sqrt{n}}} \\le 1.96 \\Big)\n",
    "$$\n",
    "\n",
    "which is more commonly written as ($n$ is the sample size)\n",
    "\n",
    "$$\n",
    "0.95 = P\\Big( \\hat x - 1.96\\cdot\\frac{\\sigma}{\\sqrt{n}}\\ \\le \\mu \\le \\ \\hat x + 1.96\\cdot\\frac{\\sigma}{\\sqrt{n}} \\Big)\n",
    "$$\n",
    "\n",
    "Thus, we can say that the 95% CI for $\\mu$ when $\\sigma$ is known is:\n",
    "\n",
    "$$\n",
    "\\Big[\\hat x - 1.96\\cdot\\frac{\\sigma}{\\sqrt{n}}\\ ,\\ \\hat x + 1.96\\cdot\\frac{\\sigma}{\\sqrt{n}} \\Big]\n",
    "$$\n",
    "\n",
    "More generally, if we define $z_{\\alpha/2}$ as the value that cuts off an area of $\\alpha/2$ in the upper tail of the standard normal distribution, we can define a ($1-\\alpha$) confidence interval for the population mean $\\mu$ as:\n",
    "\n",
    "$$\n",
    "\\Big[\\hat x - Z_{\\alpha/2}\\cdot\\frac{\\sigma}{\\sqrt{n}}\\ ,\\ \\hat x + Z_{\\alpha/2}\\cdot\\frac{\\sigma}{\\sqrt{n}} \\Big]\n",
    "$$  "
   ]
  },
  {
   "cell_type": "markdown",
   "metadata": {},
   "source": [
    "##### z-score calculation in practice\n",
    "To calculate $Z_{\\alpha/2}$ for a 95% confidence interval we can use the `.interval()` function or the `.ppf()` function."
   ]
  },
  {
   "cell_type": "code",
   "execution_count": 1,
   "metadata": {},
   "outputs": [],
   "source": [
    "import scipy.stats as stats\n",
    "import numpy as np"
   ]
  },
  {
   "cell_type": "markdown",
   "metadata": {},
   "source": [
    "Let's say we want to have a confidence of 95% for our results, then $\\alpha=0.05$ (5%). This means that we want to confirm the null hypotesis (for example, that $\\hat{x}\\approx\\mu$) with a confidence of 95% (i.e., accepting an error of 5%). **Note** that here we are assuming that the population st.dev. $\\sigma$ is known - this is rarely the case!\n",
    "\n",
    "For the standard normal distribution:"
   ]
  },
  {
   "cell_type": "code",
   "execution_count": 2,
   "metadata": {},
   "outputs": [
    {
     "name": "stdout",
     "output_type": "stream",
     "text": [
      "Confidence Interval: (-1.959963984540054, 1.959963984540054)\n",
      "Upper z-score:\t1.960\n",
      "Lower z-score:\t-1.960\n"
     ]
    }
   ],
   "source": [
    "r = .95\n",
    "print(F\"Confidence Interval: {stats.norm.interval(r)}\")\n",
    "print(f\"Upper z-score:\\t{stats.norm.ppf(1 - ((1 - r)/2)):.3f}\") # ppf = percent point function\n",
    "print(f\"Lower z-score:\\t{stats.norm.ppf((1 - r)/2):.3f}\")"
   ]
  },
  {
   "cell_type": "markdown",
   "metadata": {},
   "source": [
    "Let's say now that we measured the mean and st.dev. for a data sample with the following results:\n",
    "- $\\hat{x}=135$ (sample mean)\n",
    "- $s=25$ (sample st.dev.)\n",
    "- $n=56$ (n. of samples)\n",
    "\n",
    "We want to check that the mean ($\\mu$) of the population this sample comes from is correctly approximated by $\\hat{x}$. We allow an error of maximum 5%. Note the the underlying assumption is that the data is normally distributed and that we can safely say (because of some previous knowledge) that $s\\approx\\sigma$ is realistically true. Then:"
   ]
  },
  {
   "cell_type": "code",
   "execution_count": 3,
   "metadata": {},
   "outputs": [
    {
     "name": "stdout",
     "output_type": "stream",
     "text": [
      "CI(95%): (128.45221989235253, 141.54778010764747)\n"
     ]
    }
   ],
   "source": [
    "x_hat = 135.\n",
    "s = 25.\n",
    "n = 56\n",
    "alpha = .05 # \\alpha = 1-r\n",
    "zeta_alpha_half = stats.norm.ppf(1 - alpha/2)\n",
    "\n",
    "print(f\"CI(95%): {x_hat - zeta_alpha_half * s / np.sqrt(n), x_hat + zeta_alpha_half * s / np.sqrt(n)}\")"
   ]
  },
  {
   "cell_type": "code",
   "execution_count": 14,
   "metadata": {},
   "outputs": [],
   "source": [
    "stats.norm.interval?"
   ]
  },
  {
   "cell_type": "code",
   "execution_count": 4,
   "metadata": {},
   "outputs": [
    {
     "name": "stdout",
     "output_type": "stream",
     "text": [
      "Calculation with .interval(): (128.45221989235253, 141.54778010764747)\n"
     ]
    }
   ],
   "source": [
    "print(f'Calculation with .interval(): {stats.norm.interval(confidence=1-alpha, loc=x_hat, scale=s/np.sqrt(n))}')"
   ]
  },
  {
   "cell_type": "markdown",
   "metadata": {},
   "source": [
    "#### Example 2: the population st.dev. is *unknown*\n",
    "Let's now move to the more common case when the population st.dev. $\\sigma$ is unknown. In this case, we should prefer a *t*-score to a *z*-score and perform a *t*-test instead of a *z*-test. \n",
    "\n",
    "We can define the *t*-score as \n",
    "$$\n",
    "\\mu = \\hat{x} \\pm t_\\nu \\frac{s}{\\sqrt{n}}\n",
    "$$\n",
    "*s* is now the sample mean and *t* depends on the degrees of freedom, $\\nu$.\n",
    "\n",
    "Note that, while the population and sample means are calculated in the same way, the population and sample variances are different:\n",
    "$$\n",
    "\\hat{x}=\\mu=\\frac{\\sum_i x_i}{N}\n",
    "$$\n",
    "but\n",
    "$$\n",
    "\\sigma^2=\\frac{\\sum_i (x_i-\\mu)^2}{N} \\\\\n",
    "s^2=\\frac{\\sum_i (x_i-\\hat{x})^2}{N-1}\n",
    "$$\n",
    "\n",
    "This will be taken into account when calculating the *z*- and *t*-scores."
   ]
  },
  {
   "cell_type": "markdown",
   "metadata": {},
   "source": [
    "In `scipy.stats`, the `t` and `norm` libraries are similar, besides the fact that the former needs the *degrees of freedom* (dof) to be specified. Remember that $\\text{dof} = N-1$, where $N$ is the number of samples in the dataset. Let's take a real-case example: a dataset that contains the body temperature (Fahrenheit), heart rate (bpm) and sex (male/female) for a given population."
   ]
  },
  {
   "cell_type": "code",
   "execution_count": 5,
   "metadata": {},
   "outputs": [],
   "source": [
    "import scipy.stats as stats\n",
    "import numpy as np\n",
    "import pandas as pd\n",
    "\n",
    "import matplotlib.pyplot as plt\n",
    "import seaborn as sns\n",
    "sns.set_style('whitegrid')\n",
    "sns.set(rc={'figure.figsize':(5,5)})"
   ]
  },
  {
   "cell_type": "code",
   "execution_count": 6,
   "metadata": {},
   "outputs": [
    {
     "data": {
      "text/html": [
       "<div>\n",
       "<style scoped>\n",
       "    .dataframe tbody tr th:only-of-type {\n",
       "        vertical-align: middle;\n",
       "    }\n",
       "\n",
       "    .dataframe tbody tr th {\n",
       "        vertical-align: top;\n",
       "    }\n",
       "\n",
       "    .dataframe thead th {\n",
       "        text-align: right;\n",
       "    }\n",
       "</style>\n",
       "<table border=\"1\" class=\"dataframe\">\n",
       "  <thead>\n",
       "    <tr style=\"text-align: right;\">\n",
       "      <th></th>\n",
       "      <th>temp</th>\n",
       "      <th>sex</th>\n",
       "      <th>bpm</th>\n",
       "    </tr>\n",
       "  </thead>\n",
       "  <tbody>\n",
       "    <tr>\n",
       "      <th>0</th>\n",
       "      <td>96.3</td>\n",
       "      <td>0</td>\n",
       "      <td>70</td>\n",
       "    </tr>\n",
       "    <tr>\n",
       "      <th>1</th>\n",
       "      <td>96.7</td>\n",
       "      <td>0</td>\n",
       "      <td>71</td>\n",
       "    </tr>\n",
       "    <tr>\n",
       "      <th>2</th>\n",
       "      <td>96.9</td>\n",
       "      <td>0</td>\n",
       "      <td>74</td>\n",
       "    </tr>\n",
       "    <tr>\n",
       "      <th>3</th>\n",
       "      <td>97.0</td>\n",
       "      <td>0</td>\n",
       "      <td>80</td>\n",
       "    </tr>\n",
       "    <tr>\n",
       "      <th>4</th>\n",
       "      <td>97.1</td>\n",
       "      <td>0</td>\n",
       "      <td>73</td>\n",
       "    </tr>\n",
       "  </tbody>\n",
       "</table>\n",
       "</div>"
      ],
      "text/plain": [
       "   temp  sex  bpm\n",
       "0  96.3    0   70\n",
       "1  96.7    0   71\n",
       "2  96.9    0   74\n",
       "3  97.0    0   80\n",
       "4  97.1    0   73"
      ]
     },
     "execution_count": 6,
     "metadata": {},
     "output_type": "execute_result"
    }
   ],
   "source": [
    "body = pd.read_csv('data/bodytemp.csv')\n",
    "body.head()"
   ]
  },
  {
   "cell_type": "code",
   "execution_count": 7,
   "metadata": {},
   "outputs": [
    {
     "name": "stdout",
     "output_type": "stream",
     "text": [
      "<class 'pandas.core.frame.DataFrame'>\n",
      "RangeIndex: 130 entries, 0 to 129\n",
      "Data columns (total 3 columns):\n",
      " #   Column  Non-Null Count  Dtype  \n",
      "---  ------  --------------  -----  \n",
      " 0   temp    130 non-null    float64\n",
      " 1   sex     130 non-null    int64  \n",
      " 2   bpm     130 non-null    int64  \n",
      "dtypes: float64(1), int64(2)\n",
      "memory usage: 3.2 KB\n"
     ]
    }
   ],
   "source": [
    "body.info()"
   ]
  },
  {
   "cell_type": "code",
   "execution_count": 8,
   "metadata": {
    "scrolled": false
   },
   "outputs": [
    {
     "name": "stdout",
     "output_type": "stream",
     "text": [
      "N. of records: 65\n"
     ]
    },
    {
     "data": {
      "image/png": "[encoded data removed]",
      "text/plain": [
       "<Figure size 500x500 with 1 Axes>"
      ]
     },
     "metadata": {},
     "output_type": "display_data"
    }
   ],
   "source": [
    "female_hr = body[body.sex == 1]['bpm'] # let's look at the female (sex=1) population\n",
    "print(f\"N. of records: {len(female_hr)}\")\n",
    "sns.histplot(female_hr, color='blue', kde=True, stat='probability')\n",
    "plt.show()"
   ]
  },
  {
   "cell_type": "code",
   "execution_count": 9,
   "metadata": {},
   "outputs": [
    {
     "name": "stdout",
     "output_type": "stream",
     "text": [
      "N. of Samples:\t65\n",
      "Sample Mean:\t74.2\n",
      "Sample St.Dev:\t8.1\n"
     ]
    }
   ],
   "source": [
    "# sample statistics\n",
    "n = len(female_hr)          # n. of samples\n",
    "x_hat = female_hr.mean()    # sample mean\n",
    "std_dev = female_hr.std()   # sample st.dev.\n",
    "print(f\"N. of Samples:\\t{n}\\nSample Mean:\\t{x_hat:.1f}\\nSample St.Dev:\\t{std_dev:.1f}\")"
   ]
  },
  {
   "cell_type": "code",
   "execution_count": 13,
   "metadata": {},
   "outputs": [
    {
     "name": "stdout",
     "output_type": "stream",
     "text": [
      "95% Confidence Interval from z-test: (74.0908051655888, 74.21688714210352)\n",
      "95% Confidence Interval from t-test: (74.09055746175093, 74.21713484594139)\n"
     ]
    }
   ],
   "source": [
    "# Calculating CIs from z- and t- scores\n",
    "alpha = 0.05 # 1-r\n",
    "print(f'{1-alpha:.0%} Confidence Interval from z-test: {stats.norm.interval(confidence=alpha, loc=np.mean(female_hr), scale=stats.sem(female_hr))}')\n",
    "print(f'{1-alpha:.0%} Confidence Interval from t-test: {stats.t.interval(confidence=alpha, df=len(female_hr)-1, loc=np.mean(female_hr), scale=stats.sem(female_hr))}')"
   ]
  },
  {
   "cell_type": "markdown",
   "metadata": {},
   "source": [
    "We can see that the CIs found with the two tests are very similar. Indeed, when $N\\rightarrow\\infty$, the *t*-distribution converges to the *z*-distribution. We'll use this information in the next notebook."
   ]
  }
 ],
 "metadata": {
  "kernelspec": {
   "display_name": "Python 3 (ipykernel)",
   "language": "python",
   "name": "python3"
  },
  "language_info": {
   "codemirror_mode": {
    "name": "ipython",
    "version": 3
   },
   "file_extension": ".py",
   "mimetype": "text/x-python",
   "name": "python",
   "nbconvert_exporter": "python",
   "pygments_lexer": "ipython3",
   "version": "3.11.5"
  },
  "latex_envs": {
   "LaTeX_envs_menu_present": true,
   "autoclose": false,
   "autocomplete": true,
   "bibliofile": "biblio.bib",
   "cite_by": "apalike",
   "current_citInitial": 1,
   "eqLabelWithNumbers": true,
   "eqNumInitial": 1,
   "hotkeys": {
    "equation": "Ctrl-E",
    "itemize": "Ctrl-I"
   },
   "labels_anchors": false,
   "latex_user_defs": false,
   "report_style_numbering": false,
   "user_envs_cfg": false
  }
 },
 "nbformat": 4,
 "nbformat_minor": 4
}
