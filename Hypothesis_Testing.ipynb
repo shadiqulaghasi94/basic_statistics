{
 "cells": [
  {
   "cell_type": "markdown",
   "metadata": {},
   "source": [
    "### Hypothesis Testing\n",
    "\n",
    "[Hypothesis testing](https://en.wikipedia.org/wiki/Statistical_hypothesis_testing) is used to determine if there is enough statistical evidence in favor of a specific hypothesis. It allows us to draw conclusions about an entire population based on a representative sample. These tests evaluate two **mutually exclusive** statements about a population to determine which statement is best supported by the sample data. They answer a very precise question with a definite answer: yes or no. The statement that is favoured is called the **null hypothesis**, while the antithesis to the null hypothesis is called the **alternative hypothesis**. \n",
    "\n",
    "For example, we may want to determine if a new drug (called \"0\") is effective for treating insomnia: a sample of patients is randomly selected; half of them is given the drug \"0\" while the other half is given a pill that doesn't contain any medicine (placebo). The conditions of the patients are then measured and compared. The null hypothesis in this case is the efficacy of the new drug against insomnia, and the test wants to answer the question: \"is the new drug effective? Yes or no?\". Note that if more drugs are provided at the same time (i.e., there are more than one alternative hypotheses), this kind of tests is ineffective. We can only reject the hypothesis that drug \"0\" is effective, but we cannot say anything else about other possibilities (say, drugs \"B\", \"C\", ...).\n",
    "\n",
    "Conventionally, the (two) hypotheses are named as such:\n",
    "- The null hypothesis is represented by $H_0$ (falling asleep thanks to drug \"0\")\n",
    "- The alternative hypothesis is represented by $H_A$ (all other cases)\n",
    "\n",
    "#### *p*-values and $\\alpha$-values\n",
    "In the context of hypothesis testing, the  ***p*-value** is the probability of obtaining results at least as extreme or abnormal as the results actually observed in the sample *under the assumptions of the null hypothesis*. A small *p*-value is evidence **against** the null hypothesis. In the example above, the *p*-value would be the probability of staying awake after taking drug \"0\".\n",
    "\n",
    "The *p*-value is almost never considered alone and is usually confronted against the **$\\alpha$-value** (also called *statistical level*). The $\\alpha$-value is the probability of rejecting the null hypothesis when the null hypothesis is true. It corresponds to **the probability of making a mistake** (i.e., rejecting the null hypothesis incorrectly). A priori, this threshold can be set on purpose to direct the tests. For example, if we want to have a drug that is effective in 95% of the cases, then we want to take an $\\alpha$-value of 5%. That means that there is only 5% of chances that we're making a mistake in our evaluation.\n",
    "\n",
    "After choosing the $\\alpha$-value (how confident we want to be), we can run the test. We, then, have two cases:\n",
    "- if $p \\leq \\alpha$, then $H_0$ must be **rejected** (low strength of evidence for $H_0$)\n",
    "- if $p >\\alpha$, then $H_0$ must be **accepted**\n",
    "\n",
    "In our example, this is because, if $p \\leq \\alpha$, then the probability of drug \"0\" not working (the patient stays awake) is smaller than the probability of incorrectly rejecting the null hypothesis. Or, in other words, the probability of making a mistake is higher than affirming that drug \"0\" doesn't work. We're not saying that drug \"0\" doesn't work or that other hypotheses do work. We're just saying that we cannot determine it from the sample we have.\n",
    "\n",
    "#### What type of test to run?\n",
    "\n",
    "Graphically, the *p*-value is the area of the tail of a probability distribution. The *p*-value is calculated using the sampling distribution of the test statistic under the null hypothesis. Since the distribution is symmetrical, the confidence level can apply to either side of the distribution. A hypothesis test can be **one-tailed** or **two-tailed**. \n",
    "\n",
    "![](images/hyp_test_types1.png)\n",
    "\n",
    "From the image above, it's easy to see what the *p*- and the $\\alpha$-value represent. The $\\alpha$-value is the threshold we set. If the *p*-value is beyond this threshold, i.e., further away in the tails, then there is a non-null probability that an extreme event happens, even if we're are supposing that the null hypothesis is true.\n",
    "\n",
    "According to the kind of tests (one-/two-tailed on a symmetrical/asymmetrical probability distribution) you want to make, the *p*-value is defined as:\n",
    "- $p = \\Pr(x \\geq 1-\\alpha \\mid H_0)$ for a one-sided right-tail test-statistic distribution,\n",
    "- $p = \\Pr(x \\leq \\alpha \\mid H_0)$ for a one-sided left-tail test-statistic distribution,\n",
    "- $p = 2\\min\\{\\Pr(x \\geq \\alpha \\mid H_0),\\Pr(x \\leq \\alpha \\mid H_0)\\}$ for a two-sided asymmetric test-statistic distribution,\n",
    "- $p =\\Pr(|x| \\geq |\\alpha| \\mid H_0)$ for a two-sided symmetric test-statistic distribution"
   ]
  },
  {
   "cell_type": "markdown",
   "metadata": {},
   "source": [
    "#### Example\n",
    "We can use a dataset that contains some information about the (male) human body temperature. From the medical literature, we know that the average body temperature should be 98.6 Fahrenheit degrees. Let's see if we can infer this result from our dataset. In other words, we want to test whether the sample mean is compatible with the theoretical mean. We want to target a confidence level of 95%. We can set up the problem as follows:\n",
    "\n",
    "We will set the hypotheses as follows:\n",
    "- $H_0 = 98.6 \\leftrightarrow$ the male body temperature is 98.6 degrees\n",
    "- $H_A\\neq 98.6 \\leftrightarrow$ the male body temperature is NOT 98.6 degrees\n",
    "\n",
    "In this case, since the alternate hypothesis has a $\\neq$ condition, we will use a **two-sided test**. Also $\\alpha = 1-0.95 = 0.05$."
   ]
  },
  {
   "cell_type": "code",
   "execution_count": 2,
   "metadata": {},
   "outputs": [],
   "source": [
    "import pandas as pd\n",
    "import numpy as np\n",
    "import scipy.stats as stats\n",
    "from statistics import mean, stdev"
   ]
  },
  {
   "cell_type": "code",
   "execution_count": 3,
   "metadata": {},
   "outputs": [
    {
     "data": {
      "text/html": [
       "<div>\n",
       "<style scoped>\n",
       "    .dataframe tbody tr th:only-of-type {\n",
       "        vertical-align: middle;\n",
       "    }\n",
       "\n",
       "    .dataframe tbody tr th {\n",
       "        vertical-align: top;\n",
       "    }\n",
       "\n",
       "    .dataframe thead th {\n",
       "        text-align: right;\n",
       "    }\n",
       "</style>\n",
       "<table border=\"1\" class=\"dataframe\">\n",
       "  <thead>\n",
       "    <tr style=\"text-align: right;\">\n",
       "      <th></th>\n",
       "      <th>temp</th>\n",
       "      <th>sex</th>\n",
       "      <th>bpm</th>\n",
       "    </tr>\n",
       "  </thead>\n",
       "  <tbody>\n",
       "    <tr>\n",
       "      <th>0</th>\n",
       "      <td>96.3</td>\n",
       "      <td>0</td>\n",
       "      <td>70</td>\n",
       "    </tr>\n",
       "    <tr>\n",
       "      <th>1</th>\n",
       "      <td>96.7</td>\n",
       "      <td>0</td>\n",
       "      <td>71</td>\n",
       "    </tr>\n",
       "    <tr>\n",
       "      <th>2</th>\n",
       "      <td>96.9</td>\n",
       "      <td>0</td>\n",
       "      <td>74</td>\n",
       "    </tr>\n",
       "    <tr>\n",
       "      <th>3</th>\n",
       "      <td>97.0</td>\n",
       "      <td>0</td>\n",
       "      <td>80</td>\n",
       "    </tr>\n",
       "    <tr>\n",
       "      <th>4</th>\n",
       "      <td>97.1</td>\n",
       "      <td>0</td>\n",
       "      <td>73</td>\n",
       "    </tr>\n",
       "  </tbody>\n",
       "</table>\n",
       "</div>"
      ],
      "text/plain": [
       "   temp  sex  bpm\n",
       "0  96.3    0   70\n",
       "1  96.7    0   71\n",
       "2  96.9    0   74\n",
       "3  97.0    0   80\n",
       "4  97.1    0   73"
      ]
     },
     "execution_count": 3,
     "metadata": {},
     "output_type": "execute_result"
    }
   ],
   "source": [
    "body = pd.read_csv('data/bodytemp.csv')\n",
    "body.head() # 0 means male and 1 means female"
   ]
  },
  {
   "cell_type": "code",
   "execution_count": 4,
   "metadata": {},
   "outputs": [
    {
     "name": "stdout",
     "output_type": "stream",
     "text": [
      "N. of Samples:\t65\n",
      "Mean:\t\t98.10461538461539\n",
      "Std.Dev.:\t0.6987557623265904\n",
      "Error:\t\t0.08666998552285868\n",
      "Alpha:\t\t0.05\n"
     ]
    }
   ],
   "source": [
    "n = len(body[body['sex'] == 0].temp)\n",
    "m = body[body['sex'] == 0].temp.mean()\n",
    "s = body[body['sex'] == 0].temp.std()\n",
    "err = s/np.sqrt(n)\n",
    "alpha = 1-0.95\n",
    "print(f\"N. of Samples:\\t{n}\\nMean:\\t\\t{m:}\\nStd.Dev.:\\t{s}\\nError:\\t\\t{err}\\nAlpha:\\t\\t{alpha:.2f}\")"
   ]
  },
  {
   "cell_type": "markdown",
   "metadata": {},
   "source": [
    "As we can see, the sample mean is 0.5 degrees off the theoretical mean ($\\mu=98.6$). However, we cannot reject or accept the null hypothesis that this sample belongs to that population without performing a null-hypothesis test. If we reject the null hypothesis, than it means that our sample comes from another population or, at least, that its mean is not 98.6.\n",
    "\n",
    "In this case, the test statistic we can take is the z-score, which measures the distance between sample and population means, rescaled by the standard deviaton. We can compute the z-score, measure the corresponding $p$-value (i.e., the probabilty of that z-score) and compare it to one minus the confidence we want (1-$\\alpha$). "
   ]
  },
  {
   "cell_type": "code",
   "execution_count": 7,
   "metadata": {},
   "outputs": [
    {
     "name": "stdout",
     "output_type": "stream",
     "text": [
      "z-score: -5.715757\n",
      "p-value: 6.423401e-08\n",
      "alpha-value: 0.05\n",
      "==> Since 6.423401e-08 << 0.05, we REJECT the null hypothesis.\n"
     ]
    }
   ],
   "source": [
    "# calculate the test statistic (z-score)\n",
    "z_score = (m - 98.6) / err\n",
    "print(f\"z-score: {z_score:.6f}\")\n",
    "\n",
    "# calculate the p-value\n",
    "p_value = 2 * stats.norm.pdf(abs(z_score)) # two-sided test using the probability function => times 2 \n",
    "print(f\"p-value: {p_value:e}\")\n",
    "print(f\"alpha-value: {alpha:.2f}\")\n",
    "print(f\"==> Since {p_value:e} << {alpha:.2f}, we REJECT the null hypothesis.\")"
   ]
  },
  {
   "cell_type": "markdown",
   "metadata": {},
   "source": [
    "Now, our dataset has more than 30 samples, so maybe it was a wrong assumption to assume that the errors follow a Gaussian distribution. Let's see if by assuming that they follow a Student's t-distribution we can accept the null hypothesis:"
   ]
  },
  {
   "cell_type": "code",
   "execution_count": 8,
   "metadata": {},
   "outputs": [
    {
     "name": "stdout",
     "output_type": "stream",
     "text": [
      "N. of Samples:\t65\n",
      "Mean:\t\t98.10461538461539\n",
      "Std.Dev.:\t0.698755762326591\n",
      "Error:\t\t0.08666998552285875\n",
      "Alpha:\t\t0.05\n"
     ]
    }
   ],
   "source": [
    "n = len(body[body['sex'] == 0].temp)\n",
    "m = mean(body[body['sex'] == 0].temp)  # exactly the same as before\n",
    "s = stdev(body[body['sex'] == 0].temp) # different from before\n",
    "err = s/np.sqrt(n)\n",
    "alpha = 1-0.95\n",
    "print(f\"N. of Samples:\\t{n}\\nMean:\\t\\t{m}\\nStd.Dev.:\\t{s}\\nError:\\t\\t{err}\\nAlpha:\\t\\t{alpha:.2f}\")"
   ]
  },
  {
   "cell_type": "code",
   "execution_count": 9,
   "metadata": {},
   "outputs": [
    {
     "name": "stdout",
     "output_type": "stream",
     "text": [
      "t-score: -5.715757\n",
      "p-value: 3.083840e-07\n",
      "alpha-value: 0.05\n",
      "==> Since 3.083840e-07 << 0.05, we REJECT the null hypothesis.\n",
      "The p-value is beyond the threshold we set (i.e., more in the tail).\n"
     ]
    }
   ],
   "source": [
    "# calculate the test statistic (t-score)\n",
    "t_score = (m - 98.6) / err\n",
    "print(f\"t-score: {t_score:.6f}\")\n",
    "\n",
    "# calculate the p-value\n",
    "p_value = 2 * stats.t.sf(abs(t_score), n-1) # two-sided test using the probability function => times 2 \n",
    "print(f\"p-value: {p_value:e}\")\n",
    "print(f\"alpha-value: {alpha:.2f}\")\n",
    "print(f\"==> Since {p_value:e} << {alpha:.2f}, we REJECT the null hypothesis.\")\n",
    "print(\"The p-value is beyond the threshold we set (i.e., more in the tail).\")"
   ]
  },
  {
   "cell_type": "markdown",
   "metadata": {},
   "source": [
    "Above we can see that the conclusion is the same: we reject the null hypothesis and we cannot affirm that this sample is drawn from a population of mean 98.6. What is mostly important, however, is noticing that the two test statistics give different *p*-values.\n",
    "\n",
    "Remember that the *p*-value here is obtained by taking twice the value of the probability function, because we're performing a two-sided test using a *symmetric* probability function. In general, one-sided tests or tests where the probability distribution has different left and right tails can be performed following steps similar to the one performed in this notebook."
   ]
  }
 ],
 "metadata": {
  "kernelspec": {
   "display_name": "Python 3 (ipykernel)",
   "language": "python",
   "name": "python3"
  },
  "language_info": {
   "codemirror_mode": {
    "name": "ipython",
    "version": 3
   },
   "file_extension": ".py",
   "mimetype": "text/x-python",
   "name": "python",
   "nbconvert_exporter": "python",
   "pygments_lexer": "ipython3",
   "version": "3.11.5"
  },
  "latex_envs": {
   "LaTeX_envs_menu_present": true,
   "autoclose": false,
   "autocomplete": true,
   "bibliofile": "biblio.bib",
   "cite_by": "apalike",
   "current_citInitial": 1,
   "eqLabelWithNumbers": true,
   "eqNumInitial": 1,
   "hotkeys": {
    "equation": "Ctrl-E",
    "itemize": "Ctrl-I"
   },
   "labels_anchors": false,
   "latex_user_defs": false,
   "report_style_numbering": false,
   "user_envs_cfg": false
  }
 },
 "nbformat": 4,
 "nbformat_minor": 4
}
