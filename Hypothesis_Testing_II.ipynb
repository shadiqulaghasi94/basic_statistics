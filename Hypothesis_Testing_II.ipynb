{
 "cells": [
  {
   "cell_type": "markdown",
   "metadata": {},
   "source": [
    "### Hypothesis Testing\n",
    "\n",
    "[Hypothesis testing](https://en.wikipedia.org/wiki/Statistical_hypothesis_testing) is used to determine if there is enough statistical evidence in favor of a specific hypothesis. It allows us to draw conclusions about an entire population based on a representative sample. These tests evaluate two **mutually exclusive** statements about a population to determine which statement is best supported by the sample data. They answer a very precise question with a definite answer: yes or no. The statement representing the *status quo*, the currently accepted thesis is called the **null hypothesis**, while the pothential new thesis that is challenging the established one is called the **alternative hypothesis**. \n",
    "\n",
    "Conventionally, the (two) hypotheses are named as such:\n",
    "- The null hypothesis is represented by $H_0$ (established knowledge)\n",
    "- The alternative hypothesis is represented by $H_A$ (challenging thesis)\n",
    "\n",
    "#### *p*-values and $\\alpha$-values\n",
    "In the context of hypothesis testing, the  ***p*-value** is the probability of obtaining results at least as extreme or abnormal as the results actually observed in the sample *under the assumptions of the null hypothesis*. A small *p*-value is evidence **against** the null hypothesis, since it means that the new sample has very low probability to be drawn from the original distribution. You basically check how likely it is that the new sample comes from the reference distribution.\n",
    "\n",
    "Note that the *p*-value is almost never considered alone and is usually confronted against the **$\\alpha$-value** (also called *statistical level*). The $\\alpha$-value is the *target* probability of rejecting the null hypothesis when the null hypothesis is true. It corresponds to **how strict we want to be** in making a mistake. This threshold is set with the purpose to direct the tests. For example, if we want to have a drug that is effective in 95% of the cases, then we want to take an $\\alpha$-value of 5%. That means that we allow only mistakes that happen with less than 5% of chances. If, then, we produce a new sample and calculate its *p*-value, we can compare it against the $\\alpha$ value and check whether we're seing something that belongs to the original distribution or that requires new knowledge.\n",
    "\n",
    "More formally, after choosing the $\\alpha$-value (how confident we want to be), we can run the hypothesis test. We, then, have two cases:\n",
    "- if $p \\leq \\alpha$, then $H_0$ must be **rejected** (it's unlikely that that sample can be generated under the assumptions of $H_0$)\n",
    "- if $p >\\alpha$, then $H_0$ must be **accepted** (the sample belongs to the original distribution *within* our tolerated error level)\n",
    "\n",
    "\n",
    "#### How to choose between *one-tailed* and *two-tailed* tests\n",
    "\n",
    "When performing a statistical test, we may want to answer different questions:\n",
    "1. Is the sample mean, $\\hat x$, *different from* the population mean, $\\mu$\n",
    "2. Is the sample mean, $\\hat x$, *greater than* the population mean, $\\mu$\n",
    "3. Is the sample mean, $\\hat x$, *smaller than* the population mean, $\\mu$\n",
    "Question n.1 requires a **two-tailed** test, as we're testing one hypothesis ($H_a$) against the other ($H_0$) and we need to check extreme cases both at the lower and upper ends of the CDF. Questions n.2 and n.3, instead, require a **one-tailed**, since we're looking only at one tail of the CDF.\n",
    "\n",
    "Note, however, that the PDF can be symmetrical (Gaussian, *t*-Student's, ...) or asymmetrical (Gamma, ...), and so will be the corresponding CDF. It follows that in some cases the one-tailed *p*-values will be different whether we look at the upper or lower side of the same distribution.\n",
    "\n",
    "According to the test we may want to perform, the *p*-value is defined as:\n",
    "- $p = \\Pr(x \\geq 1-\\alpha \\mid H_0)$ for a *one-sided*, *right-tail* test-statistic distribution,\n",
    "- $p = \\Pr(x \\leq \\alpha \\mid H_0)$ for a *one-sided*, *left-tail* test-statistic distribution,\n",
    "- $p = 2\\cdot\\min\\{\\Pr(x \\geq \\alpha \\mid H_0),\\Pr(x \\leq \\alpha \\mid H_0)\\}$ for a *two-sided*, *asymmetric* test-statistic distribution,\n",
    "- $p =\\Pr(|x| \\geq |\\alpha| \\mid H_0)\\,=\\,2\\cdot\\Pr(x \\geq 1-\\alpha \\mid H_0)\\,=\\,2\\cdot\\Pr(x \\leq \\alpha \\mid H_0)$ for a *two-sided*, *symmetric* test-statistic distribution."
   ]
  },
  {
   "cell_type": "markdown",
   "metadata": {},
   "source": [
    "#### Example n.1: two-sided test\n",
    "We can use a dataset that contains some information about the (male) human body temperature. From the medical literature, we know that the average body temperature is 98.6 Fahrenheit degrees (37 Celsius degrees). We have a sample of $N=65$ samples and the population st.dev. is unknown. We will, thus, perform a *t*-test. Let's see if the sample mean is compatible with the population mean. We want to have confidence level of 95% (i.e., $\\alpha$ = 5%). We can set up the problem as follows:\n",
    "- $H_0 = 98.6 \\leftrightarrow$ the male body temperature is 98.6 degrees\n",
    "- $H_A\\neq 98.6 \\leftrightarrow$ the male body temperature is NOT 98.6 degrees ($\\rightarrow$ two-sided test)\n",
    "- $\\mu=98.6$\n",
    "- $\\sigma$ is unknown ($\\rightarrow$ *t*-test)\n",
    "- $N=65$\n",
    "- $r=0.95$, i.e., $\\alpha=0.05$\n",
    "\n",
    "Let's compute our *t*-score and perform the test:"
   ]
  },
  {
   "cell_type": "code",
   "execution_count": 1,
   "metadata": {},
   "outputs": [],
   "source": [
    "import pandas as pd\n",
    "import numpy as np\n",
    "import scipy.stats as stats\n",
    "from statistics import mean, stdev"
   ]
  },
  {
   "cell_type": "code",
   "execution_count": 2,
   "metadata": {},
   "outputs": [
    {
     "data": {
      "text/html": [
       "<div>\n",
       "<style scoped>\n",
       "    .dataframe tbody tr th:only-of-type {\n",
       "        vertical-align: middle;\n",
       "    }\n",
       "\n",
       "    .dataframe tbody tr th {\n",
       "        vertical-align: top;\n",
       "    }\n",
       "\n",
       "    .dataframe thead th {\n",
       "        text-align: right;\n",
       "    }\n",
       "</style>\n",
       "<table border=\"1\" class=\"dataframe\">\n",
       "  <thead>\n",
       "    <tr style=\"text-align: right;\">\n",
       "      <th></th>\n",
       "      <th>temp</th>\n",
       "      <th>sex</th>\n",
       "      <th>bpm</th>\n",
       "    </tr>\n",
       "  </thead>\n",
       "  <tbody>\n",
       "    <tr>\n",
       "      <th>0</th>\n",
       "      <td>96.3</td>\n",
       "      <td>0</td>\n",
       "      <td>70</td>\n",
       "    </tr>\n",
       "    <tr>\n",
       "      <th>1</th>\n",
       "      <td>96.7</td>\n",
       "      <td>0</td>\n",
       "      <td>71</td>\n",
       "    </tr>\n",
       "    <tr>\n",
       "      <th>2</th>\n",
       "      <td>96.9</td>\n",
       "      <td>0</td>\n",
       "      <td>74</td>\n",
       "    </tr>\n",
       "    <tr>\n",
       "      <th>3</th>\n",
       "      <td>97.0</td>\n",
       "      <td>0</td>\n",
       "      <td>80</td>\n",
       "    </tr>\n",
       "    <tr>\n",
       "      <th>4</th>\n",
       "      <td>97.1</td>\n",
       "      <td>0</td>\n",
       "      <td>73</td>\n",
       "    </tr>\n",
       "  </tbody>\n",
       "</table>\n",
       "</div>"
      ],
      "text/plain": [
       "   temp  sex  bpm\n",
       "0  96.3    0   70\n",
       "1  96.7    0   71\n",
       "2  96.9    0   74\n",
       "3  97.0    0   80\n",
       "4  97.1    0   73"
      ]
     },
     "execution_count": 2,
     "metadata": {},
     "output_type": "execute_result"
    }
   ],
   "source": [
    "body = pd.read_csv('data/bodytemp.csv')\n",
    "body.head() # 0 means male and 1 means female"
   ]
  },
  {
   "cell_type": "code",
   "execution_count": 3,
   "metadata": {},
   "outputs": [
    {
     "name": "stdout",
     "output_type": "stream",
     "text": [
      "N. of Samples:\t65\n",
      "Mean:\t\t98.10461538461539\n",
      "Std.Dev.:\t0.6987557623265904\n",
      "Error:\t\t0.08666998552285868\n",
      "Alpha:\t\t0.05\n"
     ]
    }
   ],
   "source": [
    "n = len(body[body['sex'] == 0].temp)\n",
    "m = body[body['sex'] == 0].temp.mean()\n",
    "s = body[body['sex'] == 0].temp.std()\n",
    "err = s/np.sqrt(n)\n",
    "alpha = 1-0.95\n",
    "print(f\"N. of Samples:\\t{n}\\nMean:\\t\\t{m:}\\nStd.Dev.:\\t{s}\\nError:\\t\\t{err}\\nAlpha:\\t\\t{alpha:.2f}\")"
   ]
  },
  {
   "cell_type": "markdown",
   "metadata": {},
   "source": [
    "As we can see, the sample mean is 0.5 degrees off what we believe to be the population mean ($\\mu=98.6$). Is it possible to say that this sample is drawn from this population (thus, confirming the null hypothesis)? We can perform a statistical *t*-test and verify it:"
   ]
  },
  {
   "cell_type": "code",
   "execution_count": 8,
   "metadata": {},
   "outputs": [
    {
     "name": "stdout",
     "output_type": "stream",
     "text": [
      "N. of Samples:\t65\n",
      "Mean:\t\t98.1\n",
      "Std.Dev.:\t0.7\n",
      "Error:\t\t0.09\n",
      "Alpha:\t\t0.05\n"
     ]
    }
   ],
   "source": [
    "n = len(body[body['sex'] == 0].temp)   # sample size\n",
    "m = mean(body[body['sex'] == 0].temp)  # sample mean\n",
    "s = stdev(body[body['sex'] == 0].temp) # sample st.dev.\n",
    "err = s/np.sqrt(n)\n",
    "alpha = 1-0.95                         # target confidence\n",
    "print(f\"N. of Samples:\\t{n}\\nMean:\\t\\t{m:.1f}\\nStd.Dev.:\\t{s:.1f}\\nError:\\t\\t{err:.2f}\\nAlpha:\\t\\t{alpha:.2f}\")"
   ]
  },
  {
   "cell_type": "code",
   "execution_count": 14,
   "metadata": {},
   "outputs": [
    {
     "name": "stdout",
     "output_type": "stream",
     "text": [
      "t-score: -5.715757\n",
      "p-value: 3.083840e-07\n",
      "alpha-value: 0.05\n"
     ]
    }
   ],
   "source": [
    "# calculate the test statistic (t-score)\n",
    "t_score = (m - 98.6) / err\n",
    "print(f\"t-score: {t_score:.6f}\")\n",
    "\n",
    "# calculate the p-value\n",
    "p_value = 2 * stats.t.sf(np.abs(t_score), n-1) # two-sided test using the (symmetrical) t-Student CDF\n",
    "print(f\"p-value: {p_value:e}\")\n",
    "print(f\"alpha-value: {alpha:.2f}\")"
   ]
  },
  {
   "cell_type": "markdown",
   "metadata": {},
   "source": [
    "As we can see, we get a *t*-score of -5.7. The t-Student's CDF (with $\\nu=n-1$ dof) evaluated at this point is $\\text{CDF}(t=-5.7, \\nu=64)\\,=\\,1.54\\cdot10^{-7}$. Since this distribution is symmetrical, the *p*-value is twice this number. However, we get $p<<\\alpha$, that shows that this sample doesn't belong to the known population. There is statistically significant difference.\n",
    "\n",
    "For sake of completeness, let's see what a *z*-test would give (assuming that $\\sigma\\approx s$ is a good approximation):"
   ]
  },
  {
   "cell_type": "code",
   "execution_count": 17,
   "metadata": {},
   "outputs": [
    {
     "name": "stdout",
     "output_type": "stream",
     "text": [
      "z-score: -5.715757\n",
      "p-value: 6.423401e-08\n",
      "alpha-value: 0.05\n"
     ]
    }
   ],
   "source": [
    "# calculate the test statistic (z-score)\n",
    "z_score = (m - 98.6) / err\n",
    "print(f\"z-score: {z_score:.6f}\")\n",
    "\n",
    "# calculate the p-value\n",
    "p_value = 2 * stats.norm.pdf(abs(z_score)) # two-sided test using the (symmetrical) Gaussian CDF\n",
    "print(f\"p-value: {p_value:e}\")\n",
    "print(f\"alpha-value: {alpha:.2f}\")"
   ]
  },
  {
   "cell_type": "markdown",
   "metadata": {},
   "source": [
    "As we can see, the *z*-test gives even a more compelling result. This is because assuming that the st.dev. is correct, the difference between sample and population means is even more accentuade."
   ]
  },
  {
   "cell_type": "markdown",
   "metadata": {},
   "source": [
    "#### Example n.2: one-sided test\n",
    "\n",
    "Let's build a one-sided test on the same test. Let's say that we know from the literature that the human body temperature is considered to be in the range [96.8, 99.5] degrees ([36, 37.5] in Celsius). We can perform a one-sided test with the current hypotheses:\n",
    "- $H_0\\rightarrow \\mu_0 \\leq 37.5$\n",
    "- $H_a\\rightarrow \\mu_a > 37.5$\n",
    "\n",
    "Note that this is a one-sided test because we're not testing an inequality but a *greater than/less than* relation. In this case, we're looking at the *right* tail of the distribution ($\\mu_a > 37.5$). The procedure is very similar:"
   ]
  },
  {
   "cell_type": "code",
   "execution_count": 33,
   "metadata": {},
   "outputs": [
    {
     "name": "stdout",
     "output_type": "stream",
     "text": [
      "t-score: -5.715757\n",
      "p-value: 0.9999998\n",
      "alpha-value: 0.95\n"
     ]
    }
   ],
   "source": [
    "# calculate the test statistic (t-score)\n",
    "t_score = (m - 98.6) / err\n",
    "print(f\"t-score: {t_score:.6f}\")\n",
    "\n",
    "# calculate the p-value\n",
    "p_value = stats.t.sf(t_score, n-1) # two-sided test using the (symmetrical) t-Student CDF\n",
    "print(f\"p-value: {p_value:.7f}\")\n",
    "print(f\"alpha-value: {1-alpha:.2f}\") # right tail"
   ]
  },
  {
   "cell_type": "markdown",
   "metadata": {},
   "source": [
    "The result is still consistent with the two-sided test, meaning that we still need to reject the null hypothesis. However, what is interesting to see is that the difference between the *p*- and the $\\alpha$-values is slimmer. Remember that this CDF is symmetrical, so a *left*-sided test would have given the same results (you would use `alpha` instead of `1-alpha` and `stats.t.sf(-t_score, n-1)` instead of `stats.t.sf(t_score, n-1)`)."
   ]
  }
 ],
 "metadata": {
  "kernelspec": {
   "display_name": "Python 3 (ipykernel)",
   "language": "python",
   "name": "python3"
  },
  "language_info": {
   "codemirror_mode": {
    "name": "ipython",
    "version": 3
   },
   "file_extension": ".py",
   "mimetype": "text/x-python",
   "name": "python",
   "nbconvert_exporter": "python",
   "pygments_lexer": "ipython3",
   "version": "3.11.5"
  },
  "latex_envs": {
   "LaTeX_envs_menu_present": true,
   "autoclose": false,
   "autocomplete": true,
   "bibliofile": "biblio.bib",
   "cite_by": "apalike",
   "current_citInitial": 1,
   "eqLabelWithNumbers": true,
   "eqNumInitial": 1,
   "hotkeys": {
    "equation": "Ctrl-E",
    "itemize": "Ctrl-I"
   },
   "labels_anchors": false,
   "latex_user_defs": false,
   "report_style_numbering": false,
   "user_envs_cfg": false
  }
 },
 "nbformat": 4,
 "nbformat_minor": 4
}
