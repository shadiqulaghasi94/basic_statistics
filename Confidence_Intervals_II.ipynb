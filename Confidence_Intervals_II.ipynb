{
 "cells": [
  {
   "cell_type": "markdown",
   "metadata": {},
   "source": [
    "### Confidence intervals (CIs) - Example"
   ]
  },
  {
   "cell_type": "markdown",
   "metadata": {},
   "source": [
    "According to the sample size, the CI can be built, alternatively:\n",
    "1. On a t-distribution (t-score, $Z_{\\alpha/2}$), if $N\\leq30$\n",
    "2. On a normal distribution (z-score, $t_{\\alpha/2, dof}$), if $N>30$\n",
    "\n",
    "Note that, for $N\\approx30$, both tests should be tried. Note also that in the (rare) event that the population variance $\\sigma^2$ is known, the *z-score* should be used. Since $\\sigma^2$ is almost never known, the *t-score* is almost always used.\n",
    "\n",
    "In `scipy.stats`, the `t` and `norm` libraries are similar, besides the fact that the former needs the *degree of freedom* (dof) to be specified. Remember that $\\text{dof} = N-1$, where $N$ is the number of samples in the dataset."
   ]
  },
  {
   "cell_type": "code",
   "execution_count": 2,
   "metadata": {},
   "outputs": [],
   "source": [
    "import scipy.stats as stats\n",
    "import numpy as np\n",
    "import pandas as pd\n",
    "\n",
    "import matplotlib.pyplot as plt\n",
    "import seaborn as sns\n",
    "sns.set_style('whitegrid')\n",
    "sns.set(rc={'figure.figsize':(5,5)})"
   ]
  },
  {
   "cell_type": "code",
   "execution_count": 3,
   "metadata": {},
   "outputs": [
    {
     "data": {
      "text/html": [
       "<div>\n",
       "<style scoped>\n",
       "    .dataframe tbody tr th:only-of-type {\n",
       "        vertical-align: middle;\n",
       "    }\n",
       "\n",
       "    .dataframe tbody tr th {\n",
       "        vertical-align: top;\n",
       "    }\n",
       "\n",
       "    .dataframe thead th {\n",
       "        text-align: right;\n",
       "    }\n",
       "</style>\n",
       "<table border=\"1\" class=\"dataframe\">\n",
       "  <thead>\n",
       "    <tr style=\"text-align: right;\">\n",
       "      <th></th>\n",
       "      <th>temp</th>\n",
       "      <th>sex</th>\n",
       "      <th>bpm</th>\n",
       "    </tr>\n",
       "  </thead>\n",
       "  <tbody>\n",
       "    <tr>\n",
       "      <th>0</th>\n",
       "      <td>96.3</td>\n",
       "      <td>0</td>\n",
       "      <td>70</td>\n",
       "    </tr>\n",
       "    <tr>\n",
       "      <th>1</th>\n",
       "      <td>96.7</td>\n",
       "      <td>0</td>\n",
       "      <td>71</td>\n",
       "    </tr>\n",
       "    <tr>\n",
       "      <th>2</th>\n",
       "      <td>96.9</td>\n",
       "      <td>0</td>\n",
       "      <td>74</td>\n",
       "    </tr>\n",
       "    <tr>\n",
       "      <th>3</th>\n",
       "      <td>97.0</td>\n",
       "      <td>0</td>\n",
       "      <td>80</td>\n",
       "    </tr>\n",
       "    <tr>\n",
       "      <th>4</th>\n",
       "      <td>97.1</td>\n",
       "      <td>0</td>\n",
       "      <td>73</td>\n",
       "    </tr>\n",
       "  </tbody>\n",
       "</table>\n",
       "</div>"
      ],
      "text/plain": [
       "   temp  sex  bpm\n",
       "0  96.3    0   70\n",
       "1  96.7    0   71\n",
       "2  96.9    0   74\n",
       "3  97.0    0   80\n",
       "4  97.1    0   73"
      ]
     },
     "execution_count": 3,
     "metadata": {},
     "output_type": "execute_result"
    }
   ],
   "source": [
    "body = pd.read_csv('data/bodytemp.csv')\n",
    "body.head()"
   ]
  },
  {
   "cell_type": "code",
   "execution_count": 5,
   "metadata": {},
   "outputs": [
    {
     "name": "stdout",
     "output_type": "stream",
     "text": [
      "<class 'pandas.core.frame.DataFrame'>\n",
      "RangeIndex: 130 entries, 0 to 129\n",
      "Data columns (total 3 columns):\n",
      " #   Column  Non-Null Count  Dtype  \n",
      "---  ------  --------------  -----  \n",
      " 0   temp    130 non-null    float64\n",
      " 1   sex     130 non-null    int64  \n",
      " 2   bpm     130 non-null    int64  \n",
      "dtypes: float64(1), int64(2)\n",
      "memory usage: 3.2 KB\n"
     ]
    }
   ],
   "source": [
    "body.info()"
   ]
  },
  {
   "cell_type": "code",
   "execution_count": 8,
   "metadata": {
    "scrolled": false
   },
   "outputs": [
    {
     "name": "stdout",
     "output_type": "stream",
     "text": [
      "N. of records: 65\n"
     ]
    },
    {
     "data": {
      "image/png": "[encoded data removed]",
      "text/plain": [
       "<Figure size 500x500 with 1 Axes>"
      ]
     },
     "metadata": {},
     "output_type": "display_data"
    }
   ],
   "source": [
    "female_hr = body[body.sex == 1]['bpm'] # let's look at the female (sex=1) population\n",
    "print(f\"N. of records: {len(female_hr)}\")\n",
    "sns.histplot(female_hr, color='blue', kde=True, stat='probability')\n",
    "plt.show()"
   ]
  },
  {
   "cell_type": "code",
   "execution_count": 11,
   "metadata": {},
   "outputs": [
    {
     "name": "stdout",
     "output_type": "stream",
     "text": [
      "N. of Samples:\t65\n",
      "Sample Mean:\t74.2\n",
      "Sample St.Dev:\t8.1\n"
     ]
    }
   ],
   "source": [
    "# sample statistics\n",
    "n = len(female_hr)          # n. of samples\n",
    "x_hat = female_hr.mean()    # sample mean\n",
    "std_dev = female_hr.std()   # sample st.dev.\n",
    "print(f\"N. of Samples:\\t{n}\\nSample Mean:\\t{x_hat:.1f}\\nSample St.Dev:\\t{std_dev:.1f}\")"
   ]
  },
  {
   "cell_type": "code",
   "execution_count": 22,
   "metadata": {},
   "outputs": [
    {
     "name": "stdout",
     "output_type": "stream",
     "text": [
      "95.00% Confidence Interval from z-test: (74.0908051655888, 74.21688714210352)\n",
      "95.00% Confidence Interval from t-test: (74.09055746175093, 74.21713484594139)\n"
     ]
    }
   ],
   "source": [
    "# Calculating CIs from z- and t- scores\n",
    "alpha = 0.05\n",
    "print(f'{1-alpha:.2%} Confidence Interval from z-test: {stats.norm.interval(confidence=alpha, loc=np.mean(female_hr), scale=stats.sem(female_hr))}')\n",
    "print(f'{1-alpha:.2%} Confidence Interval from t-test: {stats.t.interval(confidence=alpha, df=len(female_hr)-1, loc=np.mean(female_hr), scale=stats.sem(female_hr))}')"
   ]
  },
  {
   "cell_type": "markdown",
   "metadata": {},
   "source": [
    "We can see that, according to the level of $\\alpha$ we choose, we may accept or reject the null hypothesis, i.e., that the sample distribution actually follows a normal or Student's t distribution with $\\hat{x}$ mean and $s$ std. dev. The more confident we want to be about our results, the tighet our CI gets."
   ]
  }
 ],
 "metadata": {
  "kernelspec": {
   "display_name": "Python 3 (ipykernel)",
   "language": "python",
   "name": "python3"
  },
  "language_info": {
   "codemirror_mode": {
    "name": "ipython",
    "version": 3
   },
   "file_extension": ".py",
   "mimetype": "text/x-python",
   "name": "python",
   "nbconvert_exporter": "python",
   "pygments_lexer": "ipython3",
   "version": "3.11.5"
  },
  "latex_envs": {
   "LaTeX_envs_menu_present": true,
   "autoclose": false,
   "autocomplete": true,
   "bibliofile": "biblio.bib",
   "cite_by": "apalike",
   "current_citInitial": 1,
   "eqLabelWithNumbers": true,
   "eqNumInitial": 1,
   "hotkeys": {
    "equation": "Ctrl-E",
    "itemize": "Ctrl-I"
   },
   "labels_anchors": false,
   "latex_user_defs": false,
   "report_style_numbering": false,
   "user_envs_cfg": false
  }
 },
 "nbformat": 4,
 "nbformat_minor": 4
}
